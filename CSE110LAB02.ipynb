{
  "nbformat": 4,
  "nbformat_minor": 0,
  "metadata": {
    "colab": {
      "provenance": []
    },
    "kernelspec": {
      "name": "python3",
      "display_name": "Python 3"
    },
    "language_info": {
      "name": "python"
    }
  },
  "cells": [
    {
      "cell_type": "code",
      "execution_count": 26,
      "metadata": {
        "colab": {
          "base_uri": "https://localhost:8080/"
        },
        "id": "GF-ojPauxib9",
        "outputId": "d2fcc29e-0dc2-48dd-cb44-42dd5603802f"
      },
      "outputs": [
        {
          "output_type": "stream",
          "name": "stdout",
          "text": [
            "40\n",
            "The number is even\n"
          ]
        }
      ],
      "source": [
        "#1\n",
        "Number = int(input())\n",
        "if Number%2==0:\n",
        "  print(\"The number is even\")\n",
        "else:\n",
        "  print(\"The number is odd\")"
      ]
    },
    {
      "cell_type": "code",
      "source": [
        "#2\n",
        "Number1 = int(input())\n",
        "Number2 = int(input())\n",
        "if Number1>Number2:\n",
        "  print(\"First is greater\")\n",
        "elif Number1<Number2:\n",
        "  print(\"Second is greater\")\n",
        "else:\n",
        "  print(\"The numbers are equal\")"
      ],
      "metadata": {
        "colab": {
          "base_uri": "https://localhost:8080/"
        },
        "id": "oc5U7QDbzrgz",
        "outputId": "104a50fb-44b6-4097-c639-e98e3b1f5fba"
      },
      "execution_count": 27,
      "outputs": [
        {
          "output_type": "stream",
          "name": "stdout",
          "text": [
            "11\n",
            "11\n",
            "The numbers are equal\n"
          ]
        }
      ]
    },
    {
      "cell_type": "code",
      "source": [
        "#3\n",
        "Number = int(input())\n",
        "if Number%2==0 or Number%5==0:\n",
        "  print(Number)\n",
        "else:\n",
        "  print(\"Not a multiple of 2 OR 5\")"
      ],
      "metadata": {
        "colab": {
          "base_uri": "https://localhost:8080/"
        },
        "id": "ZaV9tL8L0RoS",
        "outputId": "449723e4-99c3-4a71-9d25-9d9fc6b3c0b2"
      },
      "execution_count": null,
      "outputs": [
        {
          "output_type": "stream",
          "name": "stdout",
          "text": [
            "3\n",
            "Not a multiple of 2 OR 5\n"
          ]
        }
      ]
    },
    {
      "cell_type": "code",
      "source": [
        "#4\n",
        "Number = int(input())\n",
        "if Number%2==0 and Number%5==0:\n",
        "  print(Number)\n",
        "else:\n",
        "  print(\"Not a multiple of 2 and 5 both\")"
      ],
      "metadata": {
        "colab": {
          "base_uri": "https://localhost:8080/"
        },
        "id": "19OnCHE81V7D",
        "outputId": "52885db0-744b-4748-94e3-12e66ead9bdc"
      },
      "execution_count": null,
      "outputs": [
        {
          "output_type": "stream",
          "name": "stdout",
          "text": [
            "6\n",
            "Not a multiple of 2 and 5 both\n"
          ]
        }
      ]
    },
    {
      "cell_type": "code",
      "source": [
        "#5\n",
        "CGPA = float(input())\n",
        "Credits = int(input())\n",
        "if Credits<30 and CGPA<3.8:\n",
        "  print(\"The student is not eligible for a waiver\")\n",
        "else:\n",
        "  if 3.8<=CGPA<=3.89:\n",
        "    print(\"The student is eligible for a waiver of 25 percent\")\n",
        "  elif 3.9<=CGPA<=3.94:\n",
        "    print(\"The student is eligible for a waiver of 50 percent\")\n",
        "  elif 3.95<=CGPA<=3.99:\n",
        "    print(\"The student is eligible for a waiver of 75 percent\")\n",
        "  elif CGPA==4:\n",
        "    print(\"The student is eligible for a waiver of 100 percent\")"
      ],
      "metadata": {
        "colab": {
          "base_uri": "https://localhost:8080/"
        },
        "id": "MhU6PtDx1mpz",
        "outputId": "d59f8575-44bd-49a5-c88a-5e87ade44a08"
      },
      "execution_count": null,
      "outputs": [
        {
          "output_type": "stream",
          "name": "stdout",
          "text": [
            "3.79\n",
            "24\n",
            "The student is not eligible for a waiver\n"
          ]
        }
      ]
    },
    {
      "cell_type": "code",
      "source": [
        "#1\n",
        "Hours = int(input())\n",
        "if Hours<0:\n",
        "  print(\"Hour cannot be negative\")\n",
        "elif Hours>168:\n",
        "  print(\"Impossible to work more than 168 hours weekly\")\n",
        "elif Hours<=40:\n",
        "  print(Hours*200)\n",
        "elif Hours>40:\n",
        "  print(8000+ (Hours-40)*300)"
      ],
      "metadata": {
        "colab": {
          "base_uri": "https://localhost:8080/"
        },
        "id": "LqtiDvRb3jRE",
        "outputId": "1c483300-f414-4f7d-cbab-927656f9c4a7"
      },
      "execution_count": null,
      "outputs": [
        {
          "output_type": "stream",
          "name": "stdout",
          "text": [
            "170\n",
            "Impossible to work more than 168 hours weekly\n"
          ]
        }
      ]
    },
    {
      "cell_type": "code",
      "source": [
        "#2\n",
        "Seconds = int(input())\n",
        "print(f\"Hours: {Seconds//3600}\\nMinutes: {(Seconds%3600)//60}\\nSeconds: {(Seconds%3600)%60}\")"
      ],
      "metadata": {
        "colab": {
          "base_uri": "https://localhost:8080/"
        },
        "id": "FRf8ToNK5UZ5",
        "outputId": "6e1de3b7-772f-4cac-d0e1-24e8b681154a"
      },
      "execution_count": null,
      "outputs": [
        {
          "output_type": "stream",
          "name": "stdout",
          "text": [
            "500\n",
            "Hours: 0\n",
            "Minutes: 8\n",
            "Seconds: 20\n"
          ]
        }
      ]
    },
    {
      "cell_type": "code",
      "source": [
        "#3\n",
        "Distance = int(input())\n",
        "Time = int(input())\n",
        "Velocity = (Distance/Time)*3.6\n",
        "print(f\"{Velocity} km/h\")\n",
        "if Velocity<60:\n",
        "  print(\"Too slow. It needs more changes.\")\n",
        "elif 60<=Velocity<=90:\n",
        "  print(\"Velocity is okay. The car is ready!\")\n",
        "else:\n",
        "  print(\"Too fast. Only a few changes should suffice\")"
      ],
      "metadata": {
        "id": "Uco5UDTY9SF6",
        "colab": {
          "base_uri": "https://localhost:8080/"
        },
        "outputId": "ee21f884-7a9f-4c29-9306-bbeaa1be37e2"
      },
      "execution_count": null,
      "outputs": [
        {
          "output_type": "stream",
          "name": "stdout",
          "text": [
            "160000\n",
            "7200\n",
            "80.0 km/h\n",
            "Velocity is okay. The car is ready!\n"
          ]
        }
      ]
    },
    {
      "cell_type": "code",
      "source": [
        "#1\n",
        "Number1 = int(input())\n",
        "Number2 = int(input())\n",
        "if Number1>Number2:\n",
        "  print(Number1-Number2)\n",
        "else:\n",
        "  print(Number2-Number1)"
      ],
      "metadata": {
        "colab": {
          "base_uri": "https://localhost:8080/"
        },
        "id": "FYxv3-XUjgMu",
        "outputId": "216d0270-9f61-46bc-8b8b-10c8e772ea23"
      },
      "execution_count": null,
      "outputs": [
        {
          "output_type": "stream",
          "name": "stdout",
          "text": [
            "6\n",
            "2\n",
            "4\n"
          ]
        }
      ]
    },
    {
      "cell_type": "code",
      "source": [
        "#2\n",
        "Number = int(input())\n",
        "if Number%2==0 and Number%5==0:\n",
        "  print(\"Multiple of 2 and 5 both\")\n",
        "elif Number%2==0 or Number%5==0:\n",
        "  print(Number)\n",
        "else:\n",
        "  print(\"Not a multiple we want\")"
      ],
      "metadata": {
        "colab": {
          "base_uri": "https://localhost:8080/"
        },
        "id": "V826wUYbkFPg",
        "outputId": "cd4d2951-482a-4d10-9a96-99536b98b781"
      },
      "execution_count": null,
      "outputs": [
        {
          "output_type": "stream",
          "name": "stdout",
          "text": [
            "15\n",
            "15\n"
          ]
        }
      ]
    },
    {
      "cell_type": "code",
      "source": [
        "#3\n",
        "S = int(input())\n",
        "if S<100:\n",
        "  L= 3000-(125*(S**2))\n",
        "else:\n",
        "  L=(12000/(4+((S**2)/14900)))\n",
        "print(L)"
      ],
      "metadata": {
        "colab": {
          "base_uri": "https://localhost:8080/"
        },
        "id": "EzsWmEmB_jxJ",
        "outputId": "cdc68c1d-23dc-450f-9d81-ade352ac2377"
      },
      "execution_count": null,
      "outputs": [
        {
          "output_type": "stream",
          "name": "stdout",
          "text": [
            "3\n",
            "1875\n"
          ]
        }
      ]
    },
    {
      "cell_type": "code",
      "source": [
        "#4\n",
        "Hour = int(input())\n",
        "if Hour<0 or Hour>24:\n",
        "  print(\"Wrong time\")\n",
        "elif 4<=Hour<=6:\n",
        "  print(\"Breakfast\")\n",
        "elif 12<=Hour<=13:\n",
        "  print(\"Lunch\")\n",
        "elif 16<=Hour<=17:\n",
        "  print(\"Snacks\")\n",
        "elif 19<=Hour<=20:\n",
        "  print(\"Dinner\")\n",
        "else:\n",
        "  print(\"Patience is a virtue\")"
      ],
      "metadata": {
        "colab": {
          "base_uri": "https://localhost:8080/"
        },
        "id": "a0OZviPrAx2d",
        "outputId": "6277d9d9-6fc4-4481-ddc4-0e36c589282f"
      },
      "execution_count": null,
      "outputs": [
        {
          "output_type": "stream",
          "name": "stdout",
          "text": [
            "27\n",
            "Wrong time\n"
          ]
        }
      ]
    },
    {
      "cell_type": "code",
      "source": [
        "#5\n",
        "Mark = int(input())\n",
        "if 0<=Mark<=100:\n",
        "  if 90<=Mark<=100:\n",
        "    print(\"A\")\n",
        "  elif 80<=Mark<=89:\n",
        "    print(\"B\")\n",
        "  elif 70<=Mark<=79:\n",
        "    print(\"C\")\n",
        "  elif 60<=Mark<=69:\n",
        "    print(\"D\")\n",
        "  elif 50<=Mark<=59:\n",
        "    print(\"E\")\n",
        "  else:\n",
        "    print(\"F\")"
      ],
      "metadata": {
        "colab": {
          "base_uri": "https://localhost:8080/"
        },
        "id": "AcYsozqEB1xb",
        "outputId": "20db2343-0b2f-4711-a9a2-7e71453ac8a1"
      },
      "execution_count": null,
      "outputs": [
        {
          "output_type": "stream",
          "name": "stdout",
          "text": [
            "88\n",
            "B\n"
          ]
        }
      ]
    }
  ]
}