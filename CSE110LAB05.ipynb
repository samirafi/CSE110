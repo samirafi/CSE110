{
  "nbformat": 4,
  "nbformat_minor": 0,
  "metadata": {
    "colab": {
      "provenance": []
    },
    "kernelspec": {
      "name": "python3",
      "display_name": "Python 3"
    },
    "language_info": {
      "name": "python"
    }
  },
  "cells": [
    {
      "cell_type": "code",
      "execution_count": 3,
      "metadata": {
        "id": "V5LbUPlzGZLR",
        "colab": {
          "base_uri": "https://localhost:8080/"
        },
        "outputId": "13e45385-3a85-4728-bc5d-5c8dcaf31987"
      },
      "outputs": [
        {
          "output_type": "stream",
          "name": "stdout",
          "text": [
            "Odd!!\n"
          ]
        }
      ],
      "source": [
        "#1.1\n",
        "def even_checker(Number):\n",
        "  if Number%2 == 0:\n",
        "    print(\"Even!!\")\n",
        "  else:\n",
        "    print(\"Odd!!\")\n",
        "even_checker(17)"
      ]
    },
    {
      "cell_type": "code",
      "source": [
        "#1.2\n",
        "def is_even(Number):\n",
        "  if Number%2 == 0:\n",
        "    return True\n",
        "  else:\n",
        "    return False\n",
        "result = is_even(17)\n",
        "print( result )"
      ],
      "metadata": {
        "colab": {
          "base_uri": "https://localhost:8080/"
        },
        "id": "Xi7kZpVHLv5R",
        "outputId": "f6fef27b-1ded-4733-c68d-d6ca44382251"
      },
      "execution_count": 5,
      "outputs": [
        {
          "output_type": "stream",
          "name": "stdout",
          "text": [
            "False\n"
          ]
        }
      ]
    },
    {
      "cell_type": "code",
      "source": [
        "#1.3\n",
        "def  is_pos(Number):\n",
        "  if Number>=0:\n",
        "    return True\n",
        "  else:\n",
        "    return False\n",
        "result = is_pos(12)\n",
        "print( result )"
      ],
      "metadata": {
        "colab": {
          "base_uri": "https://localhost:8080/"
        },
        "id": "lRRTXDVuMNH8",
        "outputId": "989a225c-91af-4df5-8a45-bb21138935da"
      },
      "execution_count": 8,
      "outputs": [
        {
          "output_type": "stream",
          "name": "stdout",
          "text": [
            "True\n"
          ]
        }
      ]
    },
    {
      "cell_type": "code",
      "source": [
        "#1.4\n",
        "def sequence(n):\n",
        "  if is_pos(n) == True:\n",
        "    for i in range(n+1):\n",
        "      if is_even(i) == True:\n",
        "        print(i,end=\" \")\n",
        "  else:\n",
        "    for i in range(n,0,1):\n",
        "      if is_even(i) == False:\n",
        "          print(i,end=\" \")\n",
        "sequence(-8)"
      ],
      "metadata": {
        "colab": {
          "base_uri": "https://localhost:8080/"
        },
        "id": "dr_m9lqYMlYm",
        "outputId": "b9f5f898-81bd-4089-eb51-489aa3de909a"
      },
      "execution_count": 21,
      "outputs": [
        {
          "output_type": "stream",
          "name": "stdout",
          "text": [
            "-7 -5 -3 -1 "
          ]
        }
      ]
    },
    {
      "cell_type": "code",
      "source": [
        "#2.1\n",
        "def is_valid_triangle(N1,N2,N3):\n",
        "  if N1+N2>N3 and N2+N3>N1 and N1+N3>N2:\n",
        "    return True\n",
        "  else:\n",
        "    return False\n",
        "result=is_valid_triangle(3,2,1)\n",
        "print( result )"
      ],
      "metadata": {
        "colab": {
          "base_uri": "https://localhost:8080/"
        },
        "id": "cw3hZM_WO0x8",
        "outputId": "670c2892-14d9-4a6e-b25b-6d0a8f7b27cc"
      },
      "execution_count": 23,
      "outputs": [
        {
          "output_type": "stream",
          "name": "stdout",
          "text": [
            "False\n"
          ]
        }
      ]
    },
    {
      "cell_type": "code",
      "source": [
        "#2.2\n",
        "import math\n",
        "def tri_area(S1,S2,S3):\n",
        "  if is_valid_triangle(S1,S2,S3) == True:\n",
        "    S= (S1+S2+S3)/2\n",
        "    Area = math.sqrt(S*(S-S1)*(S-S2*(S-S3)))\n",
        "    print(Area)\n",
        "  else:\n",
        "    print(\"Can’t form triangle\")\n",
        "tri_area(7,5,10)"
      ],
      "metadata": {
        "colab": {
          "base_uri": "https://localhost:8080/"
        },
        "id": "IqmO_zP0Rbuq",
        "outputId": "700c1678-716f-4366-facc-7a23f71b5696"
      },
      "execution_count": 29,
      "outputs": [
        {
          "output_type": "stream",
          "name": "stdout",
          "text": [
            "16.24807680927192\n"
          ]
        }
      ]
    },
    {
      "cell_type": "code",
      "source": [
        "#3.1\n",
        "import math\n",
        "def circle(r):\n",
        "  Area = math.pi*(r**2)\n",
        "  return Area\n",
        "circle(5)"
      ],
      "metadata": {
        "colab": {
          "base_uri": "https://localhost:8080/"
        },
        "id": "I0HTq33NUoJn",
        "outputId": "5d5e8709-1a2b-4b34-ff24-476c78f74675"
      },
      "execution_count": 34,
      "outputs": [
        {
          "output_type": "execute_result",
          "data": {
            "text/plain": [
              "78.53981633974483"
            ]
          },
          "metadata": {},
          "execution_count": 34
        }
      ]
    },
    {
      "cell_type": "code",
      "source": [
        "#3.2\n",
        "import math\n",
        "def sphere(r):\n",
        "  Area = (4/3)*math.pi*(r**3)\n",
        "  return Area\n",
        "sphere(5)"
      ],
      "metadata": {
        "colab": {
          "base_uri": "https://localhost:8080/"
        },
        "id": "ZojA7rcyVJYY",
        "outputId": "6ae93e92-879e-4181-9f70-283868b77c4b"
      },
      "execution_count": 36,
      "outputs": [
        {
          "output_type": "execute_result",
          "data": {
            "text/plain": [
              "523.5987755982989"
            ]
          },
          "metadata": {},
          "execution_count": 36
        }
      ]
    },
    {
      "cell_type": "code",
      "source": [
        "#3.3\n",
        "def fitting(r1,r2,dimension):\n",
        "  if dimension == 3:\n",
        "    sphere(r1)\n",
        "    sphere(r2)\n",
        "    if sphere(r1) > sphere(r2):\n",
        "      print(f\"Sphere-2 can fit inside Sphere-1 and {sphere(r1/2) - sphere(r2/2)} cubic units would be left.\")\n",
        "    elif sphere(r1) < sphere(r2):\n",
        "      print(f\"Sphere-1 can fit inside Sphere-2 and {sphere(r2/2) - sphere(r1/2)} cubic units would be left.\")\n",
        "    else:\n",
        "      print(\"Impossible to fit.\")\n",
        "  else:\n",
        "    circle(r1)\n",
        "    circle(r2)\n",
        "    if circle(r1) > circle(r2):\n",
        "      print(f\"circle-2 can fit inside circle-1 and {circle(r1/2) - circle(r2/2)} square units would be left.\")\n",
        "    elif circle(r1) < circle(r2):\n",
        "      print(f\"circle-1 can fit inside circle-2 and {circle(r2/2) - circle(r1/2)} square units would be left.\")\n",
        "    else:\n",
        "      print(\"Impossible to fit.\")\n",
        "fitting(5,5,3)"
      ],
      "metadata": {
        "colab": {
          "base_uri": "https://localhost:8080/"
        },
        "id": "PtXVdnrnVXfZ",
        "outputId": "bd4fd2de-29b1-45f1-c509-e068a7fe8496"
      },
      "execution_count": 43,
      "outputs": [
        {
          "output_type": "stream",
          "name": "stdout",
          "text": [
            "Impossible to fit.\n"
          ]
        }
      ]
    },
    {
      "cell_type": "code",
      "source": [
        "#5.1\n",
        "n=int(input())\n",
        "def one_to_N(p,q):\n",
        "  if p==q:\n",
        "    print(p,end=\" \")\n",
        "  else:\n",
        "    print(p,end=' ')\n",
        "    one_to_N(p+1,q)\n",
        "one_to_N(1,n)"
      ],
      "metadata": {
        "colab": {
          "base_uri": "https://localhost:8080/"
        },
        "id": "YnMJxfkyarNa",
        "outputId": "228b8419-5077-4acd-dca0-d969319e2980"
      },
      "execution_count": 51,
      "outputs": [
        {
          "output_type": "stream",
          "name": "stdout",
          "text": [
            "5\n",
            "1 2 3 4 5 "
          ]
        }
      ]
    },
    {
      "cell_type": "code",
      "source": [
        "#5.2\n",
        "n=int(input())\n",
        "def reverse_printing(p,q):\n",
        "  if p==q:\n",
        "    print(1,end=\" \")\n",
        "  else:\n",
        "    print(q,end=' ')\n",
        "    reverse_printing(p,q-1)\n",
        "reverse_printing(1,n)"
      ],
      "metadata": {
        "colab": {
          "base_uri": "https://localhost:8080/"
        },
        "id": "U5rIufbk_iVT",
        "outputId": "678ee885-c8a9-4bd6-9938-3f24c475f355"
      },
      "execution_count": 52,
      "outputs": [
        {
          "output_type": "stream",
          "name": "stdout",
          "text": [
            "6\n",
            "6 5 4 3 2 1 "
          ]
        }
      ]
    },
    {
      "cell_type": "code",
      "source": [
        "#5.3\n",
        "n=int(input())\n",
        "def recursive_summation(n1,n2):\n",
        "  if n1==n2:\n",
        "    return 1\n",
        "  else:\n",
        "    return(n2+recursive_summation(1,n2-1))\n",
        "recursive_summation(1,n)"
      ],
      "metadata": {
        "colab": {
          "base_uri": "https://localhost:8080/"
        },
        "id": "k10XG3dt_yN7",
        "outputId": "f79b3c5b-340f-4df1-89f6-79055bcd16e6"
      },
      "execution_count": 53,
      "outputs": [
        {
          "name": "stdout",
          "output_type": "stream",
          "text": [
            "4\n"
          ]
        },
        {
          "output_type": "execute_result",
          "data": {
            "text/plain": [
              "10"
            ]
          },
          "metadata": {},
          "execution_count": 53
        }
      ]
    },
    {
      "cell_type": "code",
      "source": [
        "#1.1\n",
        "#Prime Number: If a number has only two divisors, (1 and itself), then it is a prime number. Else,then it is not a prime number.\n",
        "def is_prime(n):\n",
        "  Divisorcount = 0\n",
        "  i = 1\n",
        "  while i<=n:\n",
        "    if n%i == 0:\n",
        "      Divisorcount+=1\n",
        "    i+=1\n",
        "  if Divisorcount == 2:\n",
        "    return True\n",
        "  else:\n",
        "    return False\n",
        "prime_check = is_prime(15)\n",
        "print(prime_check)"
      ],
      "metadata": {
        "colab": {
          "base_uri": "https://localhost:8080/"
        },
        "id": "sm_mJyVhatOg",
        "outputId": "5f1f2c23-8435-4fb0-e9dc-7d730b6655ea"
      },
      "execution_count": 13,
      "outputs": [
        {
          "output_type": "stream",
          "name": "stdout",
          "text": [
            "False\n"
          ]
        }
      ]
    },
    {
      "cell_type": "code",
      "source": [
        "#1.2\n",
        "#Perfect Number: A number is said to be a perfect number if the sum of its divisors, including 1 but not the number itself is equal to that number\n",
        "def  is_perfect(n):\n",
        "  DivisorSum = 0\n",
        "  i = 1\n",
        "  while i<n:\n",
        "    if n%i == 0:\n",
        "      DivisorSum += i\n",
        "    i+=1\n",
        "  if DivisorSum == n:\n",
        "    return True\n",
        "  else:\n",
        "    return False\n",
        "perfect_check = is_perfect(33)\n",
        "print(perfect_check)"
      ],
      "metadata": {
        "colab": {
          "base_uri": "https://localhost:8080/"
        },
        "id": "_vzcMXnsusU8",
        "outputId": "b29b0f93-3556-47e8-cc22-c8e330621ed8"
      },
      "execution_count": 17,
      "outputs": [
        {
          "output_type": "stream",
          "name": "stdout",
          "text": [
            "False\n"
          ]
        }
      ]
    },
    {
      "cell_type": "code",
      "source": [
        "#1.3\n",
        "def special_sum(n):\n",
        "  n = int(input())\n",
        "  Sum = 0\n",
        "  i = 1\n",
        "  while i <= n:\n",
        "    if is_prime(i) == True:\n",
        "      Sum += i\n",
        "    elif is_perfect(i) == True:\n",
        "      Sum+=i\n",
        "    i +=1\n",
        "  return Sum\n",
        "result = special_sum(8)\n",
        "print(result)"
      ],
      "metadata": {
        "colab": {
          "base_uri": "https://localhost:8080/"
        },
        "id": "iENSPtejwR_l",
        "outputId": "36b2257a-686d-49d0-aac2-13a0c117c487"
      },
      "execution_count": 28,
      "outputs": [
        {
          "output_type": "stream",
          "name": "stdout",
          "text": [
            "8\n",
            "23\n"
          ]
        }
      ]
    },
    {
      "cell_type": "code",
      "source": [
        "#2.1\n",
        "def show_dots(n):\n",
        "  for i in range(n):\n",
        "    print(\".\",end =\"\")\n",
        "show_dots(5)"
      ],
      "metadata": {
        "colab": {
          "base_uri": "https://localhost:8080/"
        },
        "id": "GZxjluifzeYR",
        "outputId": "ccf15a80-0627-4c14-fcd0-411c44072e5c"
      },
      "execution_count": 32,
      "outputs": [
        {
          "output_type": "stream",
          "name": "stdout",
          "text": [
            "....."
          ]
        }
      ]
    },
    {
      "cell_type": "code",
      "source": [
        "#2.2\n",
        "def  show_palindrome(n):\n",
        "  i = 1\n",
        "  for i in range(1,n+1):\n",
        "    print(i, end =\"\")\n",
        "  for i in range(n-1,0,-1):\n",
        "    print(i, end = \"\")\n",
        "show_palindrome(5)"
      ],
      "metadata": {
        "colab": {
          "base_uri": "https://localhost:8080/"
        },
        "id": "wjSWu6bbz-t_",
        "outputId": "1527c26b-66ac-4871-82f7-e699fa2bca07"
      },
      "execution_count": 36,
      "outputs": [
        {
          "output_type": "stream",
          "name": "stdout",
          "text": [
            "123454321"
          ]
        }
      ]
    },
    {
      "cell_type": "code",
      "source": [
        "#2.3\n",
        "def show_triangle(n):\n",
        "  for i in range(1,n+1):\n",
        "    show_dots(n - i)\n",
        "    show_palindrome(i)\n",
        "    show_dots(n - i)\n",
        "    print()\n",
        "show_triangle(5)"
      ],
      "metadata": {
        "colab": {
          "base_uri": "https://localhost:8080/"
        },
        "id": "_ix1QZ9J0oop",
        "outputId": "8ed08613-b507-4b50-f4c1-57bb9480f2c7"
      },
      "execution_count": 42,
      "outputs": [
        {
          "output_type": "stream",
          "name": "stdout",
          "text": [
            "....1....\n",
            "...121...\n",
            "..12321..\n",
            ".1234321.\n",
            "123454321\n"
          ]
        }
      ]
    },
    {
      "cell_type": "code",
      "source": [
        "#3.1\n",
        "def calc_tax(age,salary):\n",
        "  if age > 18 and salary >= 10000:\n",
        "    if 20000 >= salary >= 10000:\n",
        "      return round(salary*.07)\n",
        "    else:\n",
        "      return round(salary*.14)\n",
        "  else:\n",
        "    return 0\n",
        "t = calc_tax(20,18000)\n",
        "print(t)"
      ],
      "metadata": {
        "colab": {
          "base_uri": "https://localhost:8080/"
        },
        "id": "ajpqDQsj7VGV",
        "outputId": "393742cb-57c5-4a62-f748-f3ae6a28d686"
      },
      "execution_count": 45,
      "outputs": [
        {
          "output_type": "stream",
          "name": "stdout",
          "text": [
            "1260\n"
          ]
        }
      ]
    },
    {
      "cell_type": "code",
      "source": [
        "#3.2\n",
        "def calc_yearly_tax():\n",
        "  age = int(input())\n",
        "  Totaltax = 0\n",
        "  for i in range(1,13):\n",
        "    salary = int(input())\n",
        "    print(f\"Month{i} Tax: {calc_tax(age,salary)}\")\n",
        "    Totaltax += calc_tax(age,salary)\n",
        "  print(f\"Total Yearly Tax: {Totaltax}\")\n",
        "calc_yearly_tax()"
      ],
      "metadata": {
        "colab": {
          "base_uri": "https://localhost:8080/"
        },
        "id": "Dt0ZWTe38cJe",
        "outputId": "87ae4bde-090d-4c5f-f5ae-be39107faf3a"
      },
      "execution_count": 47,
      "outputs": [
        {
          "output_type": "stream",
          "name": "stdout",
          "text": [
            "22\n",
            "8000\n",
            "Month1 Tax: 0\n",
            "15000\n",
            "Month2 Tax: 1050\n",
            "22000\n",
            "Month3 Tax: 3080\n",
            "2300\n",
            "Month4 Tax: 0\n",
            "15300\n",
            "Month5 Tax: 1071\n",
            "21000\n",
            "Month6 Tax: 2940\n",
            "34000\n",
            "Month7 Tax: 4760\n",
            "9000\n",
            "Month8 Tax: 0\n",
            "27000\n",
            "Month9 Tax: 3780\n",
            "88000\n",
            "Month10 Tax: 12320\n",
            "32000\n",
            "Month11 Tax: 4480\n",
            "7300\n",
            "Month12 Tax: 0\n",
            "Total Yearly Tax: 33481\n"
          ]
        }
      ]
    },
    {
      "cell_type": "code",
      "source": [
        "#5.0\n",
        "def sequence_iterative(n):\n",
        "  sum=0\n",
        "  for i in range(0,n+1):\n",
        "    if i%2==0:\n",
        "      sum-=i\n",
        "    else:\n",
        "      sum+=i\n",
        "  return sum\n",
        "sequence_iterative(5)"
      ],
      "metadata": {
        "colab": {
          "base_uri": "https://localhost:8080/"
        },
        "id": "aWN7LP2P-FjC",
        "outputId": "7a543cd1-45fc-4fa5-e37b-74605eeb6a5a"
      },
      "execution_count": 49,
      "outputs": [
        {
          "output_type": "execute_result",
          "data": {
            "text/plain": [
              "3"
            ]
          },
          "metadata": {},
          "execution_count": 49
        }
      ]
    },
    {
      "cell_type": "code",
      "source": [
        "#5.1\n",
        "def sequence_recursive(n):\n",
        "  if n == 1:\n",
        "    return 1\n",
        "  else:\n",
        "    if n%2==0:\n",
        "      return (-n+sequence_recursive(n-1))\n",
        "    else:\n",
        "      return (n+sequence_recursive(n-1))\n",
        "sequence_recursive(10)"
      ],
      "metadata": {
        "colab": {
          "base_uri": "https://localhost:8080/"
        },
        "id": "j9Y41o7B-t5e",
        "outputId": "46557b10-09ac-4292-a716-729ed967d9ef"
      },
      "execution_count": 50,
      "outputs": [
        {
          "output_type": "execute_result",
          "data": {
            "text/plain": [
              "-5"
            ]
          },
          "metadata": {},
          "execution_count": 50
        }
      ]
    }
  ]
}