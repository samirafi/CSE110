{
  "nbformat": 4,
  "nbformat_minor": 0,
  "metadata": {
    "colab": {
      "provenance": []
    },
    "kernelspec": {
      "name": "python3",
      "display_name": "Python 3"
    },
    "language_info": {
      "name": "python"
    }
  },
  "cells": [
    {
      "cell_type": "code",
      "execution_count": null,
      "metadata": {
        "colab": {
          "base_uri": "https://localhost:8080/"
        },
        "id": "2PvAWfeNqfJx",
        "outputId": "513b2ec8-a556-4301-9a78-e01e5a383303"
      },
      "outputs": [
        {
          "output_type": "stream",
          "name": "stdout",
          "text": [
            "CSE110\n",
            "011ESC\n"
          ]
        }
      ],
      "source": [
        "#1.1.1\n",
        "Word = input()\n",
        "Reverse = \"\"\n",
        "for i in Word:\n",
        "  Reverse = i + Reverse\n",
        "print(Reverse)"
      ]
    },
    {
      "cell_type": "code",
      "source": [
        "#1.1.2\n",
        "Word = input()\n",
        "print(Word[::-1])"
      ],
      "metadata": {
        "colab": {
          "base_uri": "https://localhost:8080/"
        },
        "id": "8c9dbth9se9t",
        "outputId": "920cf0a0-a434-4596-8551-8fbfb9278a72"
      },
      "execution_count": null,
      "outputs": [
        {
          "output_type": "stream",
          "name": "stdout",
          "text": [
            "Python\n",
            "nohtyP\n"
          ]
        }
      ]
    },
    {
      "cell_type": "code",
      "source": [
        "String = input()\n",
        "index = int(input())\n",
        "Reverse = \"\"\n",
        "Output= \"\"\n",
        "for i in range(index,-1,-1):\n",
        "  Reverse+=String[i]\n",
        "Output = Reverse + String[index+1:len(String)]\n",
        "print(Output)"
      ],
      "metadata": {
        "colab": {
          "base_uri": "https://localhost:8080/"
        },
        "id": "rU1AV1vitc_Y",
        "outputId": "5c96c82e-d85b-401a-cd41-4fa5a942f70d"
      },
      "execution_count": null,
      "outputs": [
        {
          "output_type": "stream",
          "name": "stdout",
          "text": [
            "aBcd1234defg\n",
            "5\n",
            "21dcBa34defg\n"
          ]
        }
      ]
    },
    {
      "cell_type": "code",
      "source": [
        "#2\n",
        "String = input()\n",
        "for i in String:\n",
        "  print(f\"{i}:{ord(i)}\")"
      ],
      "metadata": {
        "colab": {
          "base_uri": "https://localhost:8080/"
        },
        "id": "VVJXntW4uXqE",
        "outputId": "81d35683-791a-4702-d1cf-9316b8e2f2ad"
      },
      "execution_count": null,
      "outputs": [
        {
          "output_type": "stream",
          "name": "stdout",
          "text": [
            "quincuncial\n",
            "q:113\n",
            "u:117\n",
            "i:105\n",
            "n:110\n",
            "c:99\n",
            "u:117\n",
            "n:110\n",
            "c:99\n",
            "i:105\n",
            "a:97\n",
            "l:108\n"
          ]
        }
      ]
    },
    {
      "cell_type": "code",
      "source": [
        "#2.2\n",
        "String = input()\n",
        "Output = \"\"\n",
        "for i in range(len(String)):\n",
        "  if i%2 != 0:\n",
        "    ASCI = ord(String[i])\n",
        "    if 97<=ASCI<=122:\n",
        "      Output += chr(ASCI-32)\n",
        "    else:\n",
        "      Output+=String[i]\n",
        "print(Output)"
      ],
      "metadata": {
        "colab": {
          "base_uri": "https://localhost:8080/"
        },
        "id": "_ElDncQz0AJM",
        "outputId": "99dbd035-289a-46ba-d17c-4cb3cfe4cfcb"
      },
      "execution_count": null,
      "outputs": [
        {
          "output_type": "stream",
          "name": "stdout",
          "text": [
            "string\n",
            "TIG\n"
          ]
        }
      ]
    },
    {
      "cell_type": "code",
      "source": [
        "#3\n",
        "String = input()\n",
        "Character = input()\n",
        "Output = \"\"\n",
        "for i in range(len(String)):\n",
        "  if String[i]==Character:\n",
        "    print(Output)\n",
        "    Output=\"\"\n",
        "  else:\n",
        "    Output+=String[i]\n",
        "print(Output)"
      ],
      "metadata": {
        "colab": {
          "base_uri": "https://localhost:8080/"
        },
        "id": "rnWcMV7J2Zz7",
        "outputId": "5063e376-0b40-4421-f252-2dea358e3027"
      },
      "execution_count": null,
      "outputs": [
        {
          "output_type": "stream",
          "name": "stdout",
          "text": [
            "tom@gmail,harry@yahoo, bob@gmail,mary@gmail\n",
            ",\n",
            "tom@gmail\n",
            "harry@yahoo\n",
            " bob@gmail\n",
            "mary@gmail\n"
          ]
        }
      ]
    },
    {
      "cell_type": "code",
      "source": [
        "#1\n",
        "String = input()\n",
        "Binary = True\n",
        "for i in String:\n",
        "  if i in \"01\":\n",
        "    Binary = True\n",
        "  else:\n",
        "    Binary = False\n",
        "    break\n",
        "if Binary == True:\n",
        "  print(\"Binary Number\")\n",
        "else:\n",
        "  print(\"Not a Binary Number\")"
      ],
      "metadata": {
        "colab": {
          "base_uri": "https://localhost:8080/"
        },
        "id": "hDSNLs6j6gM3",
        "outputId": "99353890-9ea5-4cbf-d358-1ac529feb922"
      },
      "execution_count": null,
      "outputs": [
        {
          "output_type": "stream",
          "name": "stdout",
          "text": [
            "ary NumberBin \n",
            "Not a Binary Number\n"
          ]
        }
      ]
    },
    {
      "cell_type": "code",
      "source": [
        "#2\n",
        "Phrase = input()\n",
        "Vowel = \"aeiouAEIOU\"\n",
        "Consonant = \"bcdfghjklmnpqrstvwxyzBCDFGHJKLMNPQRSTVWXYZ\"\n",
        "Vowelcount = 0\n",
        "Consonantcount = 0\n",
        "for char in Phrase:\n",
        "  if char in Vowel:\n",
        "    Vowelcount+=1\n",
        "  elif char in Consonant:\n",
        "    Consonantcount+=1\n",
        "if Vowelcount%3==0 and Consonantcount%5==0 and Vowelcount>0 and Consonantcount>0:\n",
        "  print(\"Aaarr! Me Plunder!!\")\n",
        "else:\n",
        "  print(\"Blimey! No Plunder!!\")"
      ],
      "metadata": {
        "id": "GNFAbe6w8_zN",
        "colab": {
          "base_uri": "https://localhost:8080/"
        },
        "outputId": "40e8b38f-3c5f-415f-e326-9aca472f1b18"
      },
      "execution_count": null,
      "outputs": [
        {
          "output_type": "stream",
          "name": "stdout",
          "text": [
            "aoouii-uii\n",
            "Blimey! No Plunder!!\n"
          ]
        }
      ]
    },
    {
      "cell_type": "code",
      "source": [
        "#1\n",
        "String = input()\n",
        "Newstring = String[0]\n",
        "for i in range(1,len(String)):\n",
        "  if String[i] != String[i-1]:\n",
        "    Newstring+=String[i]\n",
        "print(Newstring)"
      ],
      "metadata": {
        "colab": {
          "base_uri": "https://localhost:8080/"
        },
        "id": "9cZe-ZdVsLOk",
        "outputId": "b4da5f64-544d-4275-eba1-e62e1e86acea"
      },
      "execution_count": null,
      "outputs": [
        {
          "output_type": "stream",
          "name": "stdout",
          "text": [
            "AAABBBBCDDBBECE \n",
            "ABCDBECE \n"
          ]
        }
      ]
    },
    {
      "cell_type": "code",
      "source": [
        "#2\n",
        "String = input()\n",
        "String1 = \"\"\n",
        "String2 = \"\"\n",
        "Mixedstring = \"\"\n",
        "i = 0\n",
        "while i<len(String):\n",
        "  if String[i]==\",\" and String[i+1]==\" \":\n",
        "    break\n",
        "  else:\n",
        "    String1+=String[i]\n",
        "  i+=1\n",
        "i+=2\n",
        "while i<len(String):\n",
        "  String2+=String[i]\n",
        "  i+=1\n",
        "i=0\n",
        "while i<len(String1) and i<len(String2):\n",
        "  Mixedstring+= String1[i]\n",
        "  Mixedstring+= String2[i]\n",
        "  i+=1\n",
        "while i<len(String1):\n",
        "  Mixedstring+= String1[i]\n",
        "  i+=1\n",
        "while i<len(String2):\n",
        "  Mixedstring+= String2[i]\n",
        "  i+=1\n",
        "print(Mixedstring)"
      ],
      "metadata": {
        "colab": {
          "base_uri": "https://localhost:8080/"
        },
        "id": "QN-JYEWquQLj",
        "outputId": "c87bf2f1-963a-49da-929f-c791477174a6"
      },
      "execution_count": null,
      "outputs": [
        {
          "output_type": "stream",
          "name": "stdout",
          "text": [
            "ijkl, ABCDENDFGH\n",
            "iAjBkClDENDFGH\n"
          ]
        }
      ]
    },
    {
      "cell_type": "code",
      "source": [
        "#3\n",
        "String = input()\n",
        "Newstring=\"\"\n",
        "for i in String:\n",
        "  Newstring+=chr(ord(i)+1)\n",
        "print(Newstring)"
      ],
      "metadata": {
        "colab": {
          "base_uri": "https://localhost:8080/"
        },
        "id": "_QsU9FXkxmZZ",
        "outputId": "53d1ffa6-7193-42fd-bce0-ca0a05a0fae8"
      },
      "execution_count": null,
      "outputs": [
        {
          "output_type": "stream",
          "name": "stdout",
          "text": [
            "the cow\n",
            "uif!dpx\n"
          ]
        }
      ]
    },
    {
      "cell_type": "code",
      "source": [
        "#4\n",
        "String = input()\n",
        "Newstring = \"\"\n",
        "uppercase = True\n",
        "i = 0\n",
        "while i < len(String):\n",
        "  Character = String[i]\n",
        "  ASCI = ord(Character)\n",
        "  if (65 <= ASCI <= 90) or (97 <= ASCI <= 122):\n",
        "    if uppercase:\n",
        "      if 97 <= ASCI <= 122:\n",
        "        Newstring += chr(ASCI - 32)\n",
        "      else:\n",
        "        Newstring += Character\n",
        "      uppercase = False\n",
        "    else:\n",
        "      if 65 <= ASCI <= 90:\n",
        "        Newstring += chr(ASCI + 32)\n",
        "      else:\n",
        "        Newstring += Character\n",
        "      uppercase = True\n",
        "  else:\n",
        "    Newstring += Character\n",
        "  i += 1\n",
        "print(Newstring)"
      ],
      "metadata": {
        "colab": {
          "base_uri": "https://localhost:8080/"
        },
        "id": "H6GYwjGUt24v",
        "outputId": "b9a28f6b-3de7-475d-ddf7-6f77dd256245"
      },
      "execution_count": null,
      "outputs": [
        {
          "output_type": "stream",
          "name": "stdout",
          "text": [
            "i love python programming\n",
            "I lOvE pYtHoN pRoGrAmMiNg\n"
          ]
        }
      ]
    }
  ]
}