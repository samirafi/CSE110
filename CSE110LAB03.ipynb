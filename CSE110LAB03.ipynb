{
  "cells": [
    {
      "cell_type": "code",
      "execution_count": null,
      "metadata": {
        "colab": {
          "base_uri": "https://localhost:8080/"
        },
        "id": "41TE2Gt7Zf3I",
        "outputId": "35fa6245-1a6c-4d3f-dd0f-a5386db11de0"
      },
      "outputs": [
        {
          "name": "stdout",
          "output_type": "stream",
          "text": [
            "24,18,12,6,0,-6"
          ]
        }
      ],
      "source": [
        "#1a\n",
        "count = 24\n",
        "while count>=-6:\n",
        "  if count==-6:\n",
        "    print(count,end=\"\")\n",
        "  else:\n",
        "    print(count,end=\",\")\n",
        "  count-=6"
      ]
    },
    {
      "cell_type": "code",
      "execution_count": null,
      "metadata": {
        "colab": {
          "base_uri": "https://localhost:8080/"
        },
        "id": "z9Puxm7_bITo",
        "outputId": "dc7373c8-f5a3-4573-e245-b5a3082519a8"
      },
      "outputs": [
        {
          "name": "stdout",
          "output_type": "stream",
          "text": [
            "18,27,36,45,54,63"
          ]
        }
      ],
      "source": [
        "#1b\n",
        "count = 18\n",
        "while count<=63:\n",
        "  if count==63:\n",
        "    print(count,end=\"\")\n",
        "  else:\n",
        "    print(count,end=\",\")\n",
        "  count+=9"
      ]
    },
    {
      "cell_type": "code",
      "source": [
        "#2\n",
        "n = int(input())\n",
        "i = 1\n",
        "count = 0\n",
        "while i<=n:\n",
        "  if i%2==0:\n",
        "    count-=(i**2)\n",
        "  else:\n",
        "    count+=(i**2)\n",
        "  i+=1\n",
        "print(y)"
      ],
      "metadata": {
        "colab": {
          "base_uri": "https://localhost:8080/"
        },
        "id": "RtX9S4A3Li0u",
        "outputId": "bbdd00b4-4b45-473e-d2c3-c78be079a7b9"
      },
      "execution_count": null,
      "outputs": [
        {
          "output_type": "stream",
          "name": "stdout",
          "text": [
            "5\n",
            "15\n"
          ]
        }
      ]
    },
    {
      "cell_type": "code",
      "source": [
        "#3\n",
        "Number = int(input())\n",
        "while Number != 0:\n",
        "  Reminder = Number%10\n",
        "  Number = Number//10\n",
        "  if Number != 0:\n",
        "    print(Reminder, end=\",\")\n",
        "  else:\n",
        "    print(Reminder, end=\"\")"
      ],
      "metadata": {
        "colab": {
          "base_uri": "https://localhost:8080/"
        },
        "id": "5gQIsFN3NkfX",
        "outputId": "e8aafae6-69b5-4755-aeaf-3bc85bafa124"
      },
      "execution_count": null,
      "outputs": [
        {
          "output_type": "stream",
          "name": "stdout",
          "text": [
            "32768\n",
            "8,6,7,2,3"
          ]
        }
      ]
    },
    {
      "cell_type": "code",
      "source": [
        "#4\n",
        "Number = int(input())\n",
        "i = 1\n",
        "count = 0\n",
        "while i <= Number:\n",
        "  if Number%i == 0:\n",
        "    print(i)\n",
        "    count+=1\n",
        "  i+=1\n",
        "print(f\"Total {count} divisors\")"
      ],
      "metadata": {
        "colab": {
          "base_uri": "https://localhost:8080/"
        },
        "id": "vI-YZZ0kQ7K9",
        "outputId": "e1d6f40c-d334-4e89-ab34-3c0997558bc9"
      },
      "execution_count": null,
      "outputs": [
        {
          "output_type": "stream",
          "name": "stdout",
          "text": [
            "6\n",
            "1\n",
            "2\n",
            "3\n",
            "6\n",
            "Total 4 divisors\n"
          ]
        }
      ]
    },
    {
      "cell_type": "code",
      "source": [
        "#5\n",
        "M = int(input())\n",
        "N = int(input())\n",
        "for i in range(M):\n",
        "  for j in range(1,N+1):\n",
        "    print(j,end=\"\")\n",
        "  print()"
      ],
      "metadata": {
        "id": "GX_F8_IjSP-U",
        "colab": {
          "base_uri": "https://localhost:8080/"
        },
        "outputId": "10bd88c5-4da9-4925-f55c-31b9c2249b6e"
      },
      "execution_count": null,
      "outputs": [
        {
          "output_type": "stream",
          "name": "stdout",
          "text": [
            "4\n",
            "6\n",
            "123456\n",
            "123456\n",
            "123456\n",
            "123456\n"
          ]
        }
      ]
    },
    {
      "cell_type": "code",
      "source": [
        "#1\n",
        "Count = 18\n",
        "Position = 0\n",
        "while Count<=63:\n",
        "  if Count<=63:\n",
        "    if Position%2==0:\n",
        "      print(1*Count,end=\",\")\n",
        "    else:\n",
        "      print(-1*Count,end=\",\")\n",
        "  Count += 9\n",
        "  Position += 1"
      ],
      "metadata": {
        "colab": {
          "base_uri": "https://localhost:8080/"
        },
        "id": "3YnUSyyqaXnb",
        "outputId": "9ac7ad14-fe60-4f3b-d58d-ad0c9d9b155a"
      },
      "execution_count": null,
      "outputs": [
        {
          "output_type": "stream",
          "name": "stdout",
          "text": [
            "18,-27,36,-45,54,-63,"
          ]
        }
      ]
    },
    {
      "cell_type": "code",
      "source": [
        "#2\n",
        "Number1 = int(input())\n",
        "Number2 = int(input())\n",
        "Number3 = int(input())\n",
        "Number4 = int(input())\n",
        "Number5 = int(input())\n",
        "print(f\"{Number1}\\n{Number1*Number2}\\n{Number1*Number2*Number3}\\n{Number1*Number2*Number3*Number4}\\n{Number1*Number2*Number3*Number4*Number5}\")"
      ],
      "metadata": {
        "colab": {
          "base_uri": "https://localhost:8080/"
        },
        "id": "Hxr-BTtQdTCX",
        "outputId": "c5844a1d-4b93-470e-e848-25b6c61b2faa"
      },
      "execution_count": null,
      "outputs": [
        {
          "output_type": "stream",
          "name": "stdout",
          "text": [
            "-10\n",
            "-2\n",
            "3\n",
            "2\n",
            "-1\n",
            "-10\n",
            "20\n",
            "60\n",
            "120\n",
            "-120\n"
          ]
        }
      ]
    },
    {
      "cell_type": "code",
      "source": [
        "#1\n",
        "N = int(input())\n",
        "i = 1\n",
        "Count = 0\n",
        "while i<=N:\n",
        "  if i%7 == 0 or i%9 == 0:\n",
        "    if i%7 == 0 and i%9 == 0:\n",
        "      pass\n",
        "    else:\n",
        "      Count+=i\n",
        "  i+=1\n",
        "print(Count)\n"
      ],
      "metadata": {
        "colab": {
          "base_uri": "https://localhost:8080/"
        },
        "id": "LjhqWJ8Yeaog",
        "outputId": "9b08675c-c6b8-4520-9b27-7083bf037070"
      },
      "execution_count": null,
      "outputs": [
        {
          "output_type": "stream",
          "name": "stdout",
          "text": [
            "75\n",
            "583\n"
          ]
        }
      ]
    },
    {
      "cell_type": "code",
      "source": [
        "#2\n",
        "N = int(input())\n",
        "Temp = N\n",
        "Count = 0\n",
        "while Temp > 0:\n",
        "    Temp = Temp // 10\n",
        "    Count += 1\n",
        "Divisor = 10 ** (Count - 1)\n",
        "while Divisor > 0:\n",
        "    Digit = N // Divisor\n",
        "    print(Digit,end=\"\")\n",
        "    N = N % Divisor\n",
        "    Divisor = Divisor // 10\n",
        "    if Divisor != 0:\n",
        "      print(\", \", end=\"\")"
      ],
      "metadata": {
        "id": "1WnEYIovgMb8",
        "colab": {
          "base_uri": "https://localhost:8080/"
        },
        "outputId": "bcc4e240-0dac-44c5-eefc-f063cd572798"
      },
      "execution_count": 52,
      "outputs": [
        {
          "output_type": "stream",
          "name": "stdout",
          "text": [
            "32768\n",
            "3, 2, 7, 6, 8"
          ]
        }
      ]
    },
    {
      "cell_type": "code",
      "source": [
        "#3\n",
        "N = int(input())\n",
        "i = 1\n",
        "Count = 0\n",
        "Divisorcount = 0\n",
        "Divisorsum = 0\n",
        "while i<=N:\n",
        "  if N%i == 0:\n",
        "    Divisorcount+=1\n",
        "  i+=1\n",
        "i = 1\n",
        "while i<N:\n",
        "  if N%i == 0:\n",
        "    Divisorsum+=i\n",
        "  i+=1\n",
        "if Divisorcount == 2:\n",
        "  print(f\"{N} is a prime number\")\n",
        "elif Divisorsum == N:\n",
        "  print(f\"{N} is a perfect number\")\n",
        "else:\n",
        "   print(f\"{N}  is not a prime or perfect number\")"
      ],
      "metadata": {
        "colab": {
          "base_uri": "https://localhost:8080/"
        },
        "id": "0UsfjS_JhBXJ",
        "outputId": "040af538-63b0-45f7-ca3e-9d7c2376bf38"
      },
      "execution_count": null,
      "outputs": [
        {
          "output_type": "stream",
          "name": "stdout",
          "text": [
            "33\n",
            "33  is not a prime or perfect number\n"
          ]
        }
      ]
    },
    {
      "cell_type": "code",
      "source": [
        "#4\n",
        "N = int(input())\n",
        "Firstnumber = int(input())\n",
        "Max = Firstnumber\n",
        "Min = Firstnumber\n",
        "Total = Firstnumber\n",
        "for i in range(N-1):\n",
        "  Number = int(input())\n",
        "  if Number<Min:\n",
        "    Min = Number\n",
        "  elif Number>Max:\n",
        "    Max = Number\n",
        "  Total += Number\n",
        "print(f\"Maximum {Max}\")\n",
        "print(f\"Minimum {Min}\")\n",
        "print(f\"Average {Total/N}\")"
      ],
      "metadata": {
        "colab": {
          "base_uri": "https://localhost:8080/"
        },
        "id": "6ehX9DslkIJp",
        "outputId": "b8f0e74d-06d9-447d-9ac2-1d299d51ca1b"
      },
      "execution_count": 41,
      "outputs": [
        {
          "output_type": "stream",
          "name": "stdout",
          "text": [
            "5\n",
            "10\n",
            "4\n",
            "-1\n",
            "-100\n",
            "1\n",
            "Maximum 10\n",
            "Minimum -100\n",
            "Average -17.2\n"
          ]
        }
      ]
    },
    {
      "cell_type": "code",
      "source": [
        "#5\n",
        "N = int(input())\n",
        "for i in range(1,N+1):\n",
        "  for j in range(1,i+1):\n",
        "    print(j, end=\"\")\n",
        "  print()"
      ],
      "metadata": {
        "colab": {
          "base_uri": "https://localhost:8080/"
        },
        "id": "RzaU2ECMnSWq",
        "outputId": "578f160c-681b-47f0-a04f-76335486255b"
      },
      "execution_count": 47,
      "outputs": [
        {
          "output_type": "stream",
          "name": "stdout",
          "text": [
            "4\n",
            "1\n",
            "12\n",
            "123\n",
            "1234\n"
          ]
        }
      ]
    }
  ],
  "metadata": {
    "colab": {
      "provenance": []
    },
    "kernelspec": {
      "display_name": "Python 3",
      "name": "python3"
    },
    "language_info": {
      "name": "python"
    }
  },
  "nbformat": 4,
  "nbformat_minor": 0
}