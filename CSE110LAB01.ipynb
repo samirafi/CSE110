{
  "nbformat": 4,
  "nbformat_minor": 0,
  "metadata": {
    "colab": {
      "provenance": []
    },
    "kernelspec": {
      "name": "python3",
      "display_name": "Python 3"
    },
    "language_info": {
      "name": "python"
    }
  },
  "cells": [
    {
      "cell_type": "code",
      "execution_count": null,
      "metadata": {
        "colab": {
          "base_uri": "https://localhost:8080/"
        },
        "id": "MA4sUdHSKAa4",
        "outputId": "4cb71974-70a9-4763-ab57-b3f14c29ac45"
      },
      "outputs": [
        {
          "output_type": "stream",
          "name": "stdout",
          "text": [
            "hello world\n",
            "21\n",
            "hello world\n",
            "21\n"
          ]
        }
      ],
      "source": [
        "#1.1\n",
        "String = str(input())\n",
        "Integer = int(input())\n",
        "print(String)\n",
        "print(Integer)"
      ]
    },
    {
      "cell_type": "code",
      "source": [
        "#1.2\n",
        "Integer1 = int(input())\n",
        "Integer2 = int(input())\n",
        "print(f\"Summation: {Integer1+Integer2}\\nMultiplication: {Integer1*Integer2}\")"
      ],
      "metadata": {
        "colab": {
          "base_uri": "https://localhost:8080/"
        },
        "id": "2qBNc_tXMEAX",
        "outputId": "0f6a2a52-7ace-4aa0-80a1-6fd6dc57d197"
      },
      "execution_count": null,
      "outputs": [
        {
          "output_type": "stream",
          "name": "stdout",
          "text": [
            "10\n",
            "5\n",
            "Summation: 15\n",
            "Multiplication: 50\n"
          ]
        }
      ]
    },
    {
      "cell_type": "code",
      "source": [
        "#1.3\n",
        "Integer = int(input())\n",
        "Float = float(input())\n",
        "print(f\"{Integer+Float} {Integer-Float}\")"
      ],
      "metadata": {
        "colab": {
          "base_uri": "https://localhost:8080/"
        },
        "id": "JF3fTKW_NiLS",
        "outputId": "a14b0dc7-bc12-4be4-cda9-d09d799f3510"
      },
      "execution_count": null,
      "outputs": [
        {
          "output_type": "stream",
          "name": "stdout",
          "text": [
            "4\n",
            "5\n",
            "9.0 -1.0\n"
          ]
        }
      ]
    },
    {
      "cell_type": "code",
      "source": [
        "#1.4\n",
        "Number1 = int(input())\n",
        "Number2 = int(input())\n",
        "Float= float(Number2)\n",
        "Addition = f\"{str(Number1)+str(Float)}\"\n",
        "print(Addition)"
      ],
      "metadata": {
        "colab": {
          "base_uri": "https://localhost:8080/"
        },
        "id": "Jv8ivgFIOBs9",
        "outputId": "2fc7147d-335f-466e-b372-46b4f90d3ae3"
      },
      "execution_count": null,
      "outputs": [
        {
          "output_type": "stream",
          "name": "stdout",
          "text": [
            "2\n",
            "3\n",
            "23.0\n"
          ]
        }
      ]
    },
    {
      "cell_type": "code",
      "source": [
        "#2\n",
        "M = int(input())\n",
        "N = int(input())\n",
        "print(f\"{M}^{N}: {M**N}\")"
      ],
      "metadata": {
        "colab": {
          "base_uri": "https://localhost:8080/"
        },
        "id": "TmLmoXm2OsoH",
        "outputId": "0131102a-5be7-4f32-a9ec-1331c3df9cdb"
      },
      "execution_count": null,
      "outputs": [
        {
          "output_type": "stream",
          "name": "stdout",
          "text": [
            "2\n",
            "3\n",
            "2^3: 8\n"
          ]
        }
      ]
    },
    {
      "cell_type": "code",
      "source": [
        "#3\n",
        "Weight = int(input())\n",
        "Maximum_load = (Weight//4)*4\n",
        "print(Maximum_load )"
      ],
      "metadata": {
        "colab": {
          "base_uri": "https://localhost:8080/"
        },
        "id": "ftF8KYloPdOO",
        "outputId": "e2f7fbef-4f27-41e7-bbad-799659c5f67a"
      },
      "execution_count": null,
      "outputs": [
        {
          "output_type": "stream",
          "name": "stdout",
          "text": [
            "23\n",
            "20\n"
          ]
        }
      ]
    },
    {
      "cell_type": "code",
      "source": [
        "#1\n",
        "A = int(input())\n",
        "B = int(input())\n",
        "C = int(input())\n",
        "D = float(input())\n",
        "print(int(A**C+(2*B)*(A//2)-D/3))"
      ],
      "metadata": {
        "colab": {
          "base_uri": "https://localhost:8080/"
        },
        "id": "sgnA7gx2QmVn",
        "outputId": "318c38fc-eed1-4405-f274-cb0d2ed37cbe"
      },
      "execution_count": null,
      "outputs": [
        {
          "output_type": "stream",
          "name": "stdout",
          "text": [
            "9\n",
            "100\n",
            "1\n",
            "3.7\n",
            "807\n"
          ]
        }
      ]
    },
    {
      "cell_type": "code",
      "source": [
        "#2\n",
        "First_name = input()\n",
        "Last_name = input()\n",
        "Age = int(input())\n",
        "CGPA = float(input())\n",
        "Last_name = \"Rahman\"\n",
        "Age-=2\n",
        "CGPA+=0.25\n",
        "print(f\"Name: {First_name} {Last_name}\\nAge: {Age}\\nCGPA: {CGPA}\")"
      ],
      "metadata": {
        "colab": {
          "base_uri": "https://localhost:8080/"
        },
        "id": "skuVlCVtRZyu",
        "outputId": "e299ff85-662a-4ef2-f0f7-7f1bed900370"
      },
      "execution_count": null,
      "outputs": [
        {
          "output_type": "stream",
          "name": "stdout",
          "text": [
            "Labiba\n",
            "Arif\n",
            "23\n",
            "3.7\n",
            "Name: Labiba Rahman\n",
            "Age: 21\n",
            "CGPA: 3.95\n"
          ]
        }
      ]
    },
    {
      "cell_type": "code",
      "source": [
        "#3\n",
        "Number_of_chocolates = int(input())\n",
        "print(f\"Each friend will receive {Number_of_chocolates//3} chocolates\\nThe number of remaining chocolates is {Number_of_chocolates%3}\")"
      ],
      "metadata": {
        "colab": {
          "base_uri": "https://localhost:8080/"
        },
        "id": "BqLmZjmBSnIq",
        "outputId": "cf63da15-a5ff-43c5-8065-9d5478da7055"
      },
      "execution_count": null,
      "outputs": [
        {
          "output_type": "stream",
          "name": "stdout",
          "text": [
            "90\n",
            "Each friend will receive 30 chocolates\n",
            "The number of remaining chocolates is 0\n"
          ]
        }
      ]
    }
  ]
}